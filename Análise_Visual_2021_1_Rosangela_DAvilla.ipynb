{
  "nbformat": 4,
  "nbformat_minor": 0,
  "metadata": {
    "colab": {
      "name": "Análise Visual - 2021.1 - Rosangela DAvilla.ipynb",
      "provenance": [],
      "authorship_tag": "ABX9TyMLV8dtfMb7ssWhWl8Q2WG9",
      "include_colab_link": true
    },
    "kernelspec": {
      "name": "python3",
      "display_name": "Python 3"
    },
    "language_info": {
      "name": "python"
    }
  },
  "cells": [
    {
      "cell_type": "markdown",
      "metadata": {
        "id": "view-in-github",
        "colab_type": "text"
      },
      "source": [
        "<a href=\"https://colab.research.google.com/github/davillawitte/AV-2021.1/blob/main/An%C3%A1lise_Visual_2021_1_Rosangela_DAvilla.ipynb\" target=\"_parent\"><img src=\"https://colab.research.google.com/assets/colab-badge.svg\" alt=\"Open In Colab\"/></a>"
      ]
    },
    {
      "cell_type": "markdown",
      "metadata": {
        "id": "9VTfWDmFSa0z"
      },
      "source": [
        "# Comparar os aspectos correlacionais entre violência x bebida alcoólica x drogas x jogo ; "
      ]
    },
    {
      "cell_type": "code",
      "metadata": {
        "id": "9yX0gLfoSNOX"
      },
      "source": [
        "#Importando bibliotecas\n",
        "import numpy as np\n",
        "import pandas as pd\n",
        "from math import log2\n",
        " \n",
        "#Carregando o dataset pelo Github\n",
        " \n",
        "df = pd.read_excel('https://github.com/nadsu077/Top.in.CompXIII/raw/main/iris-art.xlsx')"
      ],
      "execution_count": null,
      "outputs": []
    }
  ]
}